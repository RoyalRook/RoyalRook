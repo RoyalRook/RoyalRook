{
 "cells": [
  {
   "cell_type": "markdown",
   "metadata": {},
   "source": [
    "## Exercises\n",
    "### Write the pseudocode for these problems. \n",
    "\n",
    "#### Define the problem by constructing an IPO diagram showing input, output, and processing steps\n",
    "Ask yourself\n",
    "- What control structures (sequence, selection and repetition) are required?\n",
    "- What variables are required?\n",
    "\n",
    "Show a check of your solution with **test data** for at least **two valid test cases**\n",
    "If you use the numbers provided in the example then the correct pseudocode will calculate the same result.\n",
    "    "
   ]
  },
  {
   "cell_type": "markdown",
   "metadata": {},
   "source": [
    "#### 1. Find the average score\n",
    "A program is needed to prompt the user operator for exam scores, calculate the average score and display the result to the screen. The average score is calculated as the sum of the scores divided by the number of scores."
   ]
  },
  {
   "cell_type": "markdown",
   "metadata": {},
   "source": [
    "Begin\n",
    "    Set Counter to 1\n",
    "    Set Total to 0\n",
    "    Loop Counter <= Class Size\n",
    "        Prompt User For A Number\n",
    "        Get Number\n",
    "        Add Number to Total\n",
    "        Add 1 to Counter\n",
    "    Endloop\n",
    "    \n",
    "    Average = Divide Total By Class Size\n",
    "    Print Average\n",
    "End "
   ]
  },
  {
   "cell_type": "markdown",
   "metadata": {},
   "source": [
    "#### 2. How much water runs off a roof in a rain storm?\n",
    "To calculate the runoff from any given rainfall: Take the dimensions of the footprint of the roof and convert them to inches. (So, a 50' x 20' roof is 600\" x 240\"). Multiply the roof dimensions by the number of inches of rainfall. As an example, 600\" x 240\" x 1\" = 144,000 cubic inches of water for an inch of rainfall. Divide that result by 231 to get the number of gallons (because 1 gallon = 231 cubic inches). (144,000/231 = 623.38)."
   ]
  },
  {
   "cell_type": "markdown",
   "metadata": {},
   "source": [
    "Begin\n",
    "    Prompt User for the dimensions of the footprint of the roof\n",
    "    Get dimension\n",
    "    Convert dimension to inches\n",
    "    Multiply the dimension by inches of rainfall\n",
    "    Gallons = Divide the result by 231\n",
    "    Print Gallons\n",
    "End\n",
    "    "
   ]
  },
  {
   "cell_type": "markdown",
   "metadata": {},
   "source": [
    "#### 3. Process customer record\n",
    "A program is required to read a customer’s name, a purchase amount and a tax code. The tax code has been validated and will be one of the following: 0 tax exempt (0%) 1 state sales tax only (3%) 2 federal and state sales tax (5%) 3 special sales tax (7%) The program must then compute the sales tax and the total amount due,and print the customer’s name, purchase amount, sales tax and total amount due."
   ]
  },
  {
   "cell_type": "markdown",
   "metadata": {},
   "source": [
    "Begin\n",
    "    Prompt User for Name\n",
    "    Get Name\n",
    "    Prompt User for Purchase Amount\n",
    "    Get Purchase Amount \n",
    "    Prompt User for Tax Code\n",
    "        If 0 Tax Code = 0%\n",
    "        elseif 1 Tax Code =3%\n",
    "        elseif 2 Tax Code = 5%\n",
    "        else Tax Code = 7%\n",
    "    Sales Tax = Tax Code * Purchase Amount\n",
    "    Total Amount Due = Purchase Amount + Sales Tax\n",
    "    Print Name, Purchase Amount and Total Amount Due\n",
    "End"
   ]
  },
  {
   "cell_type": "markdown",
   "metadata": {},
   "source": [
    "#### 4. Calculate employee's pay \n",
    "A program is required by a company to read an employee’s number, pay rate and the number of hours worked in a week. The program is then to validate the pay rate field and the hours worked field and, if valid, compute the employee’s weekly pay and then print it and the input data.\n",
    "\n",
    "Validation: According to the company’s rules, the maximum hours an employee can work per week is 60 \n",
    "hours, and the maximum hourly rate is $25.00 per hour. If the hours worked field or the hourly rate field is out of range, the input data and an appropriate message are to be printed and the employee’s weekly pay is not to be calculated.\n",
    "\n",
    "Weekly pay calculation: Weekly pay is calculated as hours worked times pay rate. If more than 35 hours are worked, payment for the overtime hours worked is calculated at time-and-a-half."
   ]
  },
  {
   "cell_type": "markdown",
   "metadata": {},
   "source": [
    "Begin\n",
    "    Prompt User for Employee Number\n",
    "    Get Employee Number\n",
    "    Prompt User for Pay Rate\n",
    "    Get Pay Rate\n",
    "    Prompt User for Hours Worked\n",
    "#validation\n",
    "    Weekly Pay = Hours Worked * Pay Rate \n",
    "    Overtime = Hours Worked - 35\n",
    "    Bonus = Pay Rate * 1.5\n",
    "    Overworked = (Hours Worked - Overtime) * Pay Rate + Overtime * Bonus\n",
    "    If Hours Worked =< 35 and Pay Rate =< 25.00\n",
    "    Print Weekly Pay\n",
    "    Elseif Hours Worked > 35 and =< 60 and Pay Rate =< 25.00\n",
    "    Print Overworked\n",
    "    Else Stop    \n",
    "End"
   ]
  }
 ],
 "metadata": {
  "kernelspec": {
   "display_name": "Python 3",
   "language": "python",
   "name": "python3"
  },
  "language_info": {
   "codemirror_mode": {
    "name": "ipython",
    "version": 3
   },
   "file_extension": ".py",
   "mimetype": "text/x-python",
   "name": "python",
   "nbconvert_exporter": "python",
   "pygments_lexer": "ipython3",
   "version": "3.8.8"
  }
 },
 "nbformat": 4,
 "nbformat_minor": 2
}
